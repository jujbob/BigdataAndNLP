{
  "cells": [
    {
      "cell_type": "code",
      "execution_count": null,
      "metadata": {
        "id": "kVyMTcl4hYb3"
      },
      "outputs": [],
      "source": [
        "import torch\n",
        "import torch.nn as nn\n",
        "from torch.autograd import Variable\n",
        "import torchvision.transforms as transforms\n",
        "import torchvision.datasets as dsets\n",
        "import numpy as np\n"
      ]
    },
    {
      "cell_type": "code",
      "execution_count": null,
      "metadata": {
        "id": "iR8G37aShYb6"
      },
      "outputs": [],
      "source": [
        "# 1. Hyper Parameters\n",
        "input_size = 28\n",
        "sequence_size = 28\n",
        "hidden_size = 128\n",
        "num_layers = 1\n",
        "num_classes = 10\n",
        "\n",
        "learning_rate = 0.01\n",
        "batch_size = 100\n",
        "ephoc_size = 2\n"
      ]
    },
    {
      "cell_type": "code",
      "execution_count": null,
      "metadata": {
        "id": "5qqhA2h7hYb7"
      },
      "outputs": [],
      "source": [
        "# 2. Preparing datasets\n",
        "    # MNIST Dataset (Images and Labels)\n",
        "train_dataset = dsets.MNIST(root='./data', \n",
        "                            train=True, \n",
        "                            transform=transforms.ToTensor(),\n",
        "                            download=True)\n",
        "\n",
        "test_dataset = dsets.MNIST(root='./data', \n",
        "                           train=False, \n",
        "                           transform=transforms.ToTensor())\n",
        "\n",
        "    # Dataset Loader (Input Pipline)\n",
        "train_loader = torch.utils.data.DataLoader(dataset=train_dataset, \n",
        "                                           batch_size=batch_size, \n",
        "                                           shuffle=True)\n",
        "\n",
        "test_loader = torch.utils.data.DataLoader(dataset=test_dataset, \n",
        "                                          batch_size=batch_size, \n",
        "                                          shuffle=False)"
      ]
    },
    {
      "cell_type": "code",
      "execution_count": null,
      "metadata": {
        "id": "3zGjNUTkhYb7"
      },
      "outputs": [],
      "source": [
        "# 3. Build the model\n",
        "class RNNModel(nn.Module):\n",
        "    def __init__(self, input_size, hidden_size, num_layers, num_classes):\n",
        "        super(RNNModel, self).__init__()\n",
        "        self.hidden_size = hidden_size\n",
        "        self.num_layers = num_layers\n",
        "        self.rnn = nn.RNN(input_size, hidden_size, num_layers, batch_first=True)\n",
        "        self.fnn = nn.Linear(hidden_size, num_classes)\n",
        "\n",
        "    def forward(self, x):\n",
        "\n",
        "        out, _ = self.rnn(x) #out = 100x28x128\n",
        "        #print(out)\n",
        "        #print(out[:, -1, :])  # 100x128 take the last hidden layer\n",
        "        output = self.fnn(out[:, 1, :]) #output = 100x10\n",
        "        #print(output)\n",
        "        \n",
        "        return output"
      ]
    },
    {
      "cell_type": "code",
      "execution_count": null,
      "metadata": {
        "id": "jv7KkNIIhYb8"
      },
      "outputs": [],
      "source": [
        "# 4. Generate the model\n",
        "model = RNNModel(input_size, hidden_size, num_layers, num_classes)"
      ]
    },
    {
      "cell_type": "code",
      "execution_count": null,
      "metadata": {
        "id": "Du6atQe1hYb8"
      },
      "outputs": [],
      "source": [
        "# 5. Set Loss and Optimizer\n",
        "loss_function = nn.CrossEntropyLoss()\n",
        "optimizer = torch.optim.Adam(model.parameters(), lr=learning_rate)"
      ]
    },
    {
      "cell_type": "code",
      "execution_count": null,
      "metadata": {
        "id": "Q2UgMC7JhYb9",
        "outputId": "bb2e892e-18a3-4610-cd09-d2e9df68148a"
      },
      "outputs": [
        {
          "name": "stdout",
          "output_type": "stream",
          "text": [
            "loss: 2.3080055713653564\n",
            "loss: 2.3074851036071777\n",
            "loss: 2.2860116958618164\n",
            "loss: 2.306962013244629\n",
            "loss: 2.3031535148620605\n",
            "loss: 2.2594046592712402\n",
            "loss: 2.306853771209717\n",
            "loss: 2.303359031677246\n",
            "loss: 2.2794272899627686\n",
            "loss: 2.276759147644043\n",
            "loss: 2.304727077484131\n",
            "loss: 2.3074300289154053\n"
          ]
        }
      ],
      "source": [
        "# 6. Train\n",
        "for ephoc in range(ephoc_size):\n",
        "    for idx, (images, labels) in enumerate(train_loader):\n",
        "        # convert dataset as for Pytorch type\n",
        "        images = Variable(images.view(-1, sequence_size, input_size))\n",
        "        labels = Variable(labels)\n",
        "        \n",
        "        # Forward, Backward and Gradient decent\n",
        "        optimizer.zero_grad()\n",
        "        output = model(images)\n",
        "        loss = loss_function(output, labels)\n",
        "        loss.backward()\n",
        "        optimizer.step()\n",
        "        if idx%100 == 0:\n",
        "            print(\"loss:\", loss.item())"
      ]
    },
    {
      "cell_type": "code",
      "execution_count": null,
      "metadata": {
        "id": "zasE1YB7hYb-",
        "outputId": "86cdd789-1634-4d1b-8e39-41709c449e72"
      },
      "outputs": [
        {
          "name": "stdout",
          "output_type": "stream",
          "text": [
            "accuracy: 0.9753\n"
          ]
        }
      ],
      "source": [
        "# 7. Test\n",
        "correct = 0\n",
        "total = 0\n",
        "for images, labels in test_loader:\n",
        "    images = Variable(images.view(-1, sequence_size, input_size))\n",
        "    \n",
        "    outputs = model(images)\n",
        "    _, predicted = torch.max(outputs.data, 1)\n",
        "    total += len(predicted)\n",
        "    correct += (predicted == labels).sum()\n",
        "    \n",
        "print(\"accuracy:\", correct.item()/total)"
      ]
    },
    {
      "cell_type": "code",
      "execution_count": null,
      "metadata": {
        "id": "ZtfYX1JJhYb_"
      },
      "outputs": [],
      "source": [
        ""
      ]
    }
  ],
  "metadata": {
    "kernelspec": {
      "display_name": "Python 3",
      "language": "python",
      "name": "python3"
    },
    "language_info": {
      "codemirror_mode": {
        "name": "ipython",
        "version": 3
      },
      "file_extension": ".py",
      "mimetype": "text/x-python",
      "name": "python",
      "nbconvert_exporter": "python",
      "pygments_lexer": "ipython3",
      "version": "3.7.1"
    },
    "colab": {
      "name": "6. RNN_MNIST.ipynb",
      "provenance": [],
      "collapsed_sections": []
    }
  },
  "nbformat": 4,
  "nbformat_minor": 0
}